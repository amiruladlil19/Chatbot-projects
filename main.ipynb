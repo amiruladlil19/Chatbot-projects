{
  "nbformat": 4,
  "nbformat_minor": 0,
  "metadata": {
    "colab": {
      "name": "Untitled1.ipynb",
      "provenance": [],
      "authorship_tag": "ABX9TyNKd+YL+PwUrdveUtMhZ2nn",
      "include_colab_link": true
    },
    "kernelspec": {
      "name": "python3",
      "display_name": "Python 3"
    },
    "language_info": {
      "name": "python"
    }
  },
  "cells": [
    {
      "cell_type": "markdown",
      "metadata": {
        "id": "view-in-github",
        "colab_type": "text"
      },
      "source": [
        "<a href=\"https://colab.research.google.com/github/amiruladlil19/Chatbot-projects/blob/main/main.ipynb\" target=\"_parent\"><img src=\"https://colab.research.google.com/assets/colab-badge.svg\" alt=\"Open In Colab\"/></a>"
      ]
    },
    {
      "cell_type": "code",
      "metadata": {
        "id": "a4pLMjn_JVcs"
      },
      "source": [
        "import json\n",
        "import random\n",
        "import pickle\n",
        "import tensorflow\n",
        "import tflearn\n",
        "import numpy\n",
        "import nltk\n",
        "from Sastrawi.Stemmer.StemmerFactory import StemmerFactory #install sastrawi first\n",
        "from tensorflow.python.framework import ops\n",
        "ops.reset_default_graph()\n",
        "factory = StemmerFactory()\n",
        "stemmer = factory.create_stemmer()"
      ],
      "execution_count": 51,
      "outputs": []
    },
    {
      "cell_type": "code",
      "metadata": {
        "id": "msXJ6yJzJoGg"
      },
      "source": [
        "with open('intents2.json') as file:\n",
        "    data = json.load(file)"
      ],
      "execution_count": 52,
      "outputs": []
    },
    {
      "cell_type": "code",
      "metadata": {
        "colab": {
          "base_uri": "https://localhost:8080/"
        },
        "id": "T8vMJ6qdJttm",
        "outputId": "d9509adf-c039-4e89-efcc-5f2b574dd111"
      },
      "source": [
        "nltk.download('punkt')\n",
        "\n",
        "words = []\n",
        "labels = []\n",
        "docs_x = []\n",
        "docs_y = []\n",
        "\n",
        "for intent in data[\"intents\"]:\n",
        "    for pattern in intent[\"patterns\"]:\n",
        "        wrds = nltk.word_tokenize(pattern)\n",
        "        words.extend(wrds)\n",
        "        docs_x.append(wrds)\n",
        "        docs_y.append(intent[\"tag\"])\n",
        "\n",
        "    if intent[\"tag\"] not in labels:\n",
        "        labels.append(intent[\"tag\"])\n",
        "\n",
        "words = [stemmer.stem(w.lower()) for w in words if w != \"?\"]\n",
        "words = sorted(list(set(words)))\n",
        "\n",
        "labels = sorted(labels)\n",
        "\n",
        "training = []\n",
        "output = []\n",
        "\n",
        "out_empty = [0 for _ in range(len(labels))]\n",
        "\n",
        "for x, doc in enumerate(docs_x):\n",
        "    bag = []\n",
        "\n",
        "    wrds = [stemmer.stem(w.lower()) for w in doc]\n",
        "\n",
        "    for w in words:\n",
        "        if w in wrds:\n",
        "            bag.append(1)\n",
        "        else:\n",
        "            bag.append(0)\n",
        "\n",
        "    output_row = out_empty[:]\n",
        "    output_row[labels.index(docs_y[x])] = 1\n",
        "\n",
        "    training.append(bag)\n",
        "    output.append(output_row)\n",
        "\n",
        "\n",
        "training = numpy.array(training)\n",
        "output = numpy.array(output)"
      ],
      "execution_count": 53,
      "outputs": [
        {
          "output_type": "stream",
          "text": [
            "[nltk_data] Downloading package punkt to /root/nltk_data...\n",
            "[nltk_data]   Package punkt is already up-to-date!\n"
          ],
          "name": "stdout"
        }
      ]
    },
    {
      "cell_type": "code",
      "metadata": {
        "id": "bqdyvWk1J0wt"
      },
      "source": [
        "net = tflearn.input_data(shape=[None, len(training[0])])\n",
        "net = tflearn.fully_connected(net, 8)\n",
        "net = tflearn.fully_connected(net, 8)\n",
        "net = tflearn.fully_connected(net, len(output[0]), activation=\"softmax\")\n",
        "net = tflearn.regression(net)\n",
        "\n",
        "model = tflearn.DNN(net)"
      ],
      "execution_count": 54,
      "outputs": []
    },
    {
      "cell_type": "code",
      "metadata": {
        "colab": {
          "base_uri": "https://localhost:8080/"
        },
        "id": "fD-t8IKjLMgO",
        "outputId": "834249c2-6b73-467d-e43a-0da773cf0f1f"
      },
      "source": [
        "try:\n",
        "    model.load(\"model.tflearn\")\n",
        "except:\n",
        "    model.fit(training, output, n_epoch=500, batch_size=8, show_metric=True)\n",
        "    model.save(\"model.tflearn\")"
      ],
      "execution_count": 55,
      "outputs": [
        {
          "output_type": "stream",
          "text": [
            "INFO:tensorflow:Restoring parameters from /content/model.tflearn\n"
          ],
          "name": "stdout"
        }
      ]
    },
    {
      "cell_type": "code",
      "metadata": {
        "id": "IVF_GkKBLRhY"
      },
      "source": [
        "def bag_of_words(s, words):\n",
        "    bag = [0 for _ in range(len(words))]\n",
        "\n",
        "    s_words = nltk.word_tokenize(s)\n",
        "    s_words = [stemmer.stem(word.lower()) for word in s_words]\n",
        "\n",
        "    for se in s_words:\n",
        "        for i, w in enumerate(words):\n",
        "            if w == se:\n",
        "                bag[i] = 1\n",
        "    return numpy.array(bag)\n",
        "\n",
        "\n",
        "order = []\n",
        "\n",
        "\n",
        "def listToString(order):\n",
        "\n",
        "    str1 = \"\"\n",
        "\n",
        "    for ele in order:\n",
        "        str1 += \" \"+ele\n",
        "\n",
        "    return str1\n",
        "\n",
        "\n",
        "def chat():\n",
        "    print(\"Ada yang bisa saya bantu?\")\n",
        "    while True:\n",
        "        inp = input(\"Anda: \")\n",
        "\n",
        "        results = model.predict([bag_of_words(inp, words)])\n",
        "        results_index = numpy.argmax(results)\n",
        "        tag = labels[results_index]\n",
        "\n",
        "        if tag == \"keluar\":\n",
        "            if len(order) == 1:\n",
        "                print(\"Anda bisa menemukan layanan tersebut di menu utama kami :)\")\n",
        "                print(\"Sampai jumpa! Semoga hari Anda menyenangkan!\")\n",
        "                break\n",
        "            elif len(order) == 0:\n",
        "                print(\"Semoga hari Anda menyenangkan!\")\n",
        "                break\n",
        "            else:\n",
        "                reccomend(listToString(order))\n",
        "                print(\"Sampai jumpa! Semoga hari Anda menyenangkan!\")\n",
        "                break\n",
        "\n",
        "        if tag == 'cat':\n",
        "            order.append('memulas')\n",
        "\n",
        "        if tag == 'atap':\n",
        "            order.append('bumbung')\n",
        "\n",
        "        if tag == 'lantai':\n",
        "            order.append('ubin')\n",
        "          \n",
        "       \n",
        "\n",
        "        for tg in data[\"intents\"]:\n",
        "\n",
        "            if tg['tag'] == tag:\n",
        "                responses = tg['responses']\n",
        "\n",
        "        print(random.choice(responses))\n",
        "    \n",
        "\n",
        "\n",
        "def reccomend(inp):\n",
        "    results = model.predict([bag_of_words(inp, words)])\n",
        "    results_index = numpy.argmax(results)\n",
        "    tag = labels[results_index]\n",
        "    for tg in data[\"intents\"]:\n",
        "        if tg['tag'] == tag:\n",
        "            responses = tg['responses']\n",
        "\n",
        "    print(random.choice(responses))"
      ],
      "execution_count": 56,
      "outputs": []
    },
    {
      "cell_type": "code",
      "metadata": {
        "colab": {
          "base_uri": "https://localhost:8080/"
        },
        "id": "uTU26D00LimZ",
        "outputId": "406cdde8-dfcf-45be-ece2-f79eb1d5694c"
      },
      "source": [
        "chat()\n"
      ],
      "execution_count": 57,
      "outputs": [
        {
          "output_type": "stream",
          "text": [
            "Ada yang bisa saya bantu?\n",
            "Anda: kamu siapa>\n",
            "Saya adalah chatbot yang akan merekomendasikan layanan yang Anda butuhkan. Ada yang bisa saya bantu?\n",
            "Anda: tidak adakmle\n",
            "Semoga hari Anda menyenangkan!\n"
          ],
          "name": "stdout"
        }
      ]
    },
    {
      "cell_type": "code",
      "metadata": {
        "colab": {
          "base_uri": "https://localhost:8080/"
        },
        "id": "NWi2IbIKLlRs",
        "outputId": "702ee45a-afe8-423b-c665-2c6758cb8aaf"
      },
      "source": [
        "len(order)"
      ],
      "execution_count": 58,
      "outputs": [
        {
          "output_type": "execute_result",
          "data": {
            "text/plain": [
              "0"
            ]
          },
          "metadata": {
            "tags": []
          },
          "execution_count": 58
        }
      ]
    },
    {
      "cell_type": "code",
      "metadata": {
        "id": "cJzwn1MwOmvf"
      },
      "source": [
        ""
      ],
      "execution_count": 58,
      "outputs": []
    }
  ]
}